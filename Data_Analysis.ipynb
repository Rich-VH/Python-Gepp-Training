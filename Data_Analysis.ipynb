{
 "cells": [
  {
   "cell_type": "markdown",
   "metadata": {},
   "source": [
    "# Estadística Descriptiva"
   ]
  },
  {
   "cell_type": "markdown",
   "metadata": {},
   "source": [
    "La estadística descriptiva trata de la formulación de agregaciones en nuestros datos para que puedan ser entendidos de una mejor forma. Estas agregaciones pueden ser representaciones numéricas o visualizaciones con simples gráficas para entetender mejor nuestros datos. Existen dos tipos de estadísticos descriptivos:\n",
    "\n",
    "- Medidas de tendencia central (media, moda, mediana).\n",
    "- Medidas de dispersión (varianza, desviación estándar, máximo, mínimo, kurtosis y sesgo)."
   ]
  },
  {
   "cell_type": "markdown",
   "metadata": {},
   "source": [
    "## Medidas de tendencia central"
   ]
  },
  {
   "cell_type": "markdown",
   "metadata": {},
   "source": [
    "Las medidas de tendencia central pretenden describir el valor promedio de un dataset; este valor esta de alguna forma en la parte central de nuestro conjunto de datos. Las medidas más comunes para analizar la distribución de frecuencia de nuestros datos son:\n",
    "- Media.\n",
    "- Moda.\n",
    "- Mediana."
   ]
  },
  {
   "cell_type": "markdown",
   "metadata": {},
   "source": [
    "### Media."
   ]
  },
  {
   "cell_type": "markdown",
   "metadata": {},
   "source": [
    "Es el número alrededor del que las variables continuas se distribuyen, es el resultado de la división de la suma de los números entre la cantidad de números de un set de datos.\n",
    "\n",
    "x = (12, 2, 3, 5, 8, 9, 6, 4, 2)\n",
    "\n",
    "Por lo tanto, el valor promedio de *x* se calcula como:\n",
    "\n",
    "$$Media(x) = \\frac{12 + 2 + 3 + 5 + 8 + 9 + 6 + 4 + 2}{9} = 5.66 $$"
   ]
  },
  {
   "cell_type": "markdown",
   "metadata": {},
   "source": [
    "### Mediana"
   ]
  },
  {
   "cell_type": "markdown",
   "metadata": {},
   "source": [
    "Dado un dataset que esta ordenado de forma ascendente o descendente, la mediana divide los datos en dos partes. La formula general para calcular la mediana es:\n",
    "\n",
    "$$ Mediana = \\frac{n+1}{2}$$\n",
    "\n",
    "donde *n* es el número de elementos en nuestros datos.\n",
    "\n",
    "Ordenando x de forma ascendente\n",
    "\n",
    "x = (2, 2, 3, 4, 5, 6, 8, 9, 12)\n",
    "\n",
    "Por lo tanto, la mediana es 5."
   ]
  },
  {
   "cell_type": "markdown",
   "metadata": {},
   "source": [
    "### Moda"
   ]
  },
  {
   "cell_type": "markdown",
   "metadata": {},
   "source": [
    "La moda es el valor que aparece el máximo número de veces en un set de datos, de otra manera, podemos decir que es el que tiene mayor frecuencia.\n",
    "\n",
    "Del ejemplo, x = (2, 2, 3, 4, 5, 6, 8, 9, 12)\n",
    "\n",
    "Podemos ver que la Moda de nuesto conjunto de datos es el número 2"
   ]
  },
  {
   "cell_type": "code",
   "execution_count": null,
   "metadata": {},
   "outputs": [],
   "source": [
    "import numpy as np\n",
    "import pandas as pd\n",
    "import matplotlib.pyplot as plt\n",
    "import seaborn as sns\n"
   ]
  },
  {
   "cell_type": "code",
   "execution_count": null,
   "metadata": {},
   "outputs": [],
   "source": [
    "raw_iris = \"Files/Iris.csv\"\n",
    "\n",
    "iris = pd.read_csv(raw_iris, usecols=[1, 2, 3, 4, 5], skiprows=1, names = ['sepal_length', 'sepal_width','petal_length', 'petal_width', 'species'])\n",
    "iris.head()"
   ]
  },
  {
   "cell_type": "code",
   "execution_count": null,
   "metadata": {},
   "outputs": [],
   "source": [
    "sepal_length = iris[\"sepal_length\"]\n",
    "mean_sepal_length = sepal_length.mean()\n",
    "median_sepal_length = sepal_length.median()\n",
    "mode_sepal_length = sepal_length.mode()\n",
    "\n",
    "print(mean_sepal_length, median_sepal_length, mode_sepal_length)"
   ]
  },
  {
   "cell_type": "code",
   "execution_count": null,
   "metadata": {},
   "outputs": [],
   "source": [
    "np.mean(sepal_length)"
   ]
  },
  {
   "cell_type": "code",
   "execution_count": null,
   "metadata": {},
   "outputs": [],
   "source": [
    "np.median(sepal_length)"
   ]
  },
  {
   "cell_type": "markdown",
   "metadata": {},
   "source": [
    "¿Qué pasa con las variables categóricas?"
   ]
  },
  {
   "cell_type": "code",
   "execution_count": null,
   "metadata": {},
   "outputs": [],
   "source": [
    "iris[\"species\"].value_counts().nlargest(30).plot(kind='bar', figsize=(14, 8))\n",
    "plt.title(\"Número de flores por especie\")\n",
    "plt.ylabel(\"Total de flores\")\n",
    "plt.xlabel(\"Especie\")"
   ]
  },
  {
   "cell_type": "markdown",
   "metadata": {},
   "source": [
    "## Medidas de dispersión"
   ]
  },
  {
   "cell_type": "markdown",
   "metadata": {},
   "source": [
    "Las medidas de dispersión, también conocidas como medidas de variabilidad, se usan para describir las variaciones en un set de datos que pueden ser de una muestra o una población; las usaremos junto con las medidas de tendencia central para tener una descripción completa de nuestro set de datos. Entre los ejemplos más comunes, tenemos:\n",
    "\n",
    "- Varianza.\n",
    "- Desviación estándar.\n",
    "- Mínimo.\n",
    "- Máximo.\n",
    "- Rango.\n",
    "- Curtosis.\n",
    "- Sesgo"
   ]
  },
  {
   "cell_type": "markdown",
   "metadata": {},
   "source": [
    "### Desviación Estándar"
   ]
  },
  {
   "cell_type": "markdown",
   "metadata": {},
   "source": [
    "La desviación estándar es el promedio de la direcencia entre cada valor con su media, nos indica que tan dispersos están los datos con respecto a su promedio. Si la desviación estándar de un dataset es pequeña, significa que los puntos estan cercanos a la media, en caso contrario, se encuentran dispersos sobre un rango de valores."
   ]
  },
  {
   "cell_type": "code",
   "execution_count": null,
   "metadata": {},
   "outputs": [],
   "source": [
    "iris.std()"
   ]
  },
  {
   "cell_type": "code",
   "execution_count": null,
   "metadata": {},
   "outputs": [],
   "source": [
    "iris.loc[:,\"sepal_length\"].std()"
   ]
  },
  {
   "cell_type": "markdown",
   "metadata": {},
   "source": [
    "### Varianza."
   ]
  },
  {
   "cell_type": "markdown",
   "metadata": {},
   "source": [
    "La varianza es el cuadrado del promedio de las diferencias entre cada valor en el dataset con su media."
   ]
  },
  {
   "cell_type": "code",
   "execution_count": null,
   "metadata": {},
   "outputs": [],
   "source": [
    "iris.var()"
   ]
  },
  {
   "cell_type": "code",
   "execution_count": null,
   "metadata": {},
   "outputs": [],
   "source": [
    "var_sepal_length = iris.loc[:,'sepal_length'].var()\n",
    "var_sepal_length"
   ]
  },
  {
   "cell_type": "markdown",
   "metadata": {},
   "source": [
    "# Agrupaciones en datasets"
   ]
  },
  {
   "cell_type": "markdown",
   "metadata": {},
   "source": [
    "En la fase de análisis, el categorizar múltiples valores en grupos suele ser una tarea esencial. La función *groupby* de pandas es la forma más eficiente de hacer esto ya que nos proporciona la funcionalidad que necesitamos para dividir y aplicar combinaciones a nuestro dataframe."
   ]
  },
  {
   "cell_type": "code",
   "execution_count": null,
   "metadata": {},
   "outputs": [],
   "source": [
    "raw_auto = \"Files/Automobile_data.csv\"\n",
    "auto = pd.read_csv(raw_auto, na_values=['?'])\n",
    "auto.head()"
   ]
  },
  {
   "cell_type": "markdown",
   "metadata": {},
   "source": [
    "Para ver cuales son las variables categóricas en una columna, podríamos apoyarnos del siguiente código"
   ]
  },
  {
   "cell_type": "code",
   "execution_count": null,
   "metadata": {},
   "outputs": [],
   "source": [
    "auto.groupby('body-style').groups.keys()"
   ]
  },
  {
   "cell_type": "markdown",
   "metadata": {},
   "source": [
    "Para regresar los valores que están en los grupos, podemos usar el método *get_group*, que nos ayudaráa filtrar sobre algún valor"
   ]
  },
  {
   "cell_type": "code",
   "execution_count": null,
   "metadata": {},
   "outputs": [],
   "source": [
    "style = auto.groupby('body-style')\n",
    "style.get_group(\"convertible\")"
   ]
  },
  {
   "cell_type": "markdown",
   "metadata": {},
   "source": [
    "Si quisieramos agrupar considerando múltiples categorías, podemos solo pasar los nombres de las columnas dentro de la función *groupby*"
   ]
  },
  {
   "cell_type": "code",
   "execution_count": null,
   "metadata": {},
   "outputs": [],
   "source": [
    "auto.groupby([\"body-style\", \"drive-wheels\"]).first()\n"
   ]
  },
  {
   "cell_type": "markdown",
   "metadata": {},
   "source": [
    "En el ejemplo anterior, no solo agrupamos bajo criterios especificos, sino que ejecutamos operaciones matemáticas al mismo tiempo para obtener estadísticos descriptivos. Otras funciones son *max()*, *min()*, *mean()*, *first()*, *last()*, *count()*"
   ]
  },
  {
   "cell_type": "markdown",
   "metadata": {},
   "source": [
    "# Agregaciones"
   ]
  },
  {
   "cell_type": "markdown",
   "metadata": {},
   "source": [
    "Es el proceso de implementar cualquier operación matemática en un set de datos o un subconjunto del mismo, es una de muchas técnicas que se utilizan para manipular datos. La función *aggregate* nos ayudará a aplicar dichas operaciones a través de una o más columnas.\n",
    "\n",
    "Nota: Este tipo de operaciones solo funciona con columnas numéricas."
   ]
  },
  {
   "cell_type": "code",
   "execution_count": null,
   "metadata": {},
   "outputs": [],
   "source": [
    "auto_lite = auto.filter([\"length\",\"width\",\"height\",\"curb-weight\",\"price\"],axis=1)\n",
    "auto_lite"
   ]
  },
  {
   "cell_type": "code",
   "execution_count": null,
   "metadata": {},
   "outputs": [],
   "source": [
    "auto_lite.agg(\"mean\", axis=0)"
   ]
  },
  {
   "cell_type": "markdown",
   "metadata": {},
   "source": [
    "Podemos aplicar más de una función a nuestro dataset"
   ]
  },
  {
   "cell_type": "code",
   "execution_count": null,
   "metadata": {},
   "outputs": [],
   "source": [
    "auto_lite.agg([\"mean\", \"sum\", 'min'])"
   ]
  },
  {
   "cell_type": "markdown",
   "metadata": {},
   "source": [
    "También podríamos aplicar distintas funciones a distintas columnas, si una función no se aplica a una columna, se llenará con *NaN*"
   ]
  },
  {
   "cell_type": "code",
   "execution_count": null,
   "metadata": {},
   "outputs": [],
   "source": [
    "auto_lite.aggregate({\"length\":['sum', 'min'], \n",
    "                    \"width\":['max', 'min'], \n",
    "                    \"height\":['min', 'sum'], \n",
    "                    \"curb-weight\":['sum']})"
   ]
  },
  {
   "cell_type": "markdown",
   "metadata": {},
   "source": [
    "Las operaciones más importantes que podemos implementar con ayuda de la función *groupBy* son *aggregate*, *filter*, *transform* y *apply*, la forma más eficiente es hacerlo después de haber agrupado las columnas requeridas."
   ]
  },
  {
   "cell_type": "code",
   "execution_count": null,
   "metadata": {},
   "outputs": [],
   "source": [
    "auto.groupby([\"body-style\",\"drive-wheels\"]).agg(\n",
    "    {\n",
    "         'height':min,\n",
    "         'length': max,\n",
    "         'price': 'mean',    \n",
    "    }\n",
    ")"
   ]
  },
  {
   "cell_type": "markdown",
   "metadata": {},
   "source": [
    "También podríamos usar *numpy* para tener una versión más simplificada"
   ]
  },
  {
   "cell_type": "code",
   "execution_count": null,
   "metadata": {},
   "outputs": [],
   "source": [
    "auto.groupby(\n",
    "   [\"body-style\",\"drive-wheels\"])[\"price\"].agg([np.sum, np.mean, np.std])"
   ]
  },
  {
   "cell_type": "markdown",
   "metadata": {},
   "source": [
    "# Tablas Pivote"
   ]
  },
  {
   "cell_type": "markdown",
   "metadata": {},
   "source": [
    "La función *pivot_table* de pandas crea una tabla pivote de la misma forma como lo vemos en una hoja de Excel y la convierte a un dataframe. Los niveles de la tabla pivote se guardan como un objeto MultiIndex (o de índice jerárquico)"
   ]
  },
  {
   "cell_type": "code",
   "execution_count": null,
   "metadata": {},
   "outputs": [],
   "source": [
    "auto_lite2 = auto.filter([\"body-style\",\"drive-wheels\",\"length\",\"width\",\"height\",\"curb-weight\",\"price\"],axis=1)\n",
    "auto_lite2"
   ]
  },
  {
   "cell_type": "code",
   "execution_count": null,
   "metadata": {},
   "outputs": [],
   "source": [
    "pd.pivot_table(auto_lite2, index=[\"body-style\"])"
   ]
  },
  {
   "cell_type": "code",
   "execution_count": null,
   "metadata": {},
   "outputs": [],
   "source": [
    "pd.pivot_table(auto_lite2, index=[\"body-style\", \"drive-wheels\"])"
   ]
  },
  {
   "cell_type": "markdown",
   "metadata": {},
   "source": [
    "En ambas tablas, se muestran los valores promedio de cada categoría"
   ]
  },
  {
   "cell_type": "code",
   "execution_count": null,
   "metadata": {},
   "outputs": [],
   "source": [
    "pd.pivot_table(auto_lite2, values=\"price\", index=[\"body-style\"], columns=[\"drive-wheels\"], aggfunc=np.mean, fill_value=0)"
   ]
  },
  {
   "cell_type": "code",
   "execution_count": null,
   "metadata": {},
   "outputs": [],
   "source": [
    "pd.pivot_table(auto_lite2, values=['price','height','width'],\n",
    "                       index =[\"body-style\",\"drive-wheels\"],\n",
    "                       aggfunc={'price': np.mean,'height': [min, max],'width': [min, max]},\n",
    "                       fill_value=0)"
   ]
  },
  {
   "cell_type": "markdown",
   "metadata": {},
   "source": [
    "# Tabulación Cruzada"
   ]
  },
  {
   "cell_type": "markdown",
   "metadata": {},
   "source": [
    "Otra técnica empleada para un mejor entendimiento de nuestros datos es la tabulación cruzada que nos permite jugar con agrupaciones y agregaciones. En este caso, se nos muestra la frecuencia con la que ciertos grupos de datos están presentes en nuestro dataset"
   ]
  },
  {
   "cell_type": "code",
   "execution_count": null,
   "metadata": {},
   "outputs": [],
   "source": [
    "pd.crosstab(auto[\"make\"], auto[\"body-style\"])"
   ]
  },
  {
   "cell_type": "markdown",
   "metadata": {},
   "source": [
    "Si queremos agregar los totales, simplemente especificamos la opción *margins*"
   ]
  },
  {
   "cell_type": "code",
   "execution_count": null,
   "metadata": {},
   "outputs": [],
   "source": [
    "pd.crosstab(auto[\"make\"], auto[\"body-style\"], margins = True, margins_name= \"Total\")"
   ]
  },
  {
   "cell_type": "markdown",
   "metadata": {},
   "source": [
    "Podríamos agrupar por más de una categoría"
   ]
  },
  {
   "cell_type": "code",
   "execution_count": null,
   "metadata": {},
   "outputs": [],
   "source": [
    "pd.crosstab([auto[\"make\"],auto[\"num-of-doors\"]], [auto[\"body-style\"],auto[\"drive-wheels\"]],margins=True,margins_name=\"Total Made\")"
   ]
  }
 ],
 "metadata": {
  "kernelspec": {
   "display_name": "Python 3.10.6 64-bit",
   "language": "python",
   "name": "python3"
  },
  "language_info": {
   "codemirror_mode": {
    "name": "ipython",
    "version": 3
   },
   "file_extension": ".py",
   "mimetype": "text/x-python",
   "name": "python",
   "nbconvert_exporter": "python",
   "pygments_lexer": "ipython3",
   "version": "3.10.6"
  },
  "orig_nbformat": 4,
  "vscode": {
   "interpreter": {
    "hash": "7e1998ff7f8aa20ada591c520b972326324e5ea05489af9e422744c7c09f6dad"
   }
  }
 },
 "nbformat": 4,
 "nbformat_minor": 2
}
